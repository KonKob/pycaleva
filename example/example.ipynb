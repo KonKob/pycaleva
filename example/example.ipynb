{
 "cells": [
  {
   "cell_type": "markdown",
   "metadata": {},
   "source": [
    "### Imports\n",
    "- - -"
   ]
  },
  {
   "cell_type": "code",
   "execution_count": 1,
   "metadata": {},
   "outputs": [],
   "source": [
    "# Import calibration Framework\n",
    "from pycaleva import CalibrationEvaluator\n",
    "\n",
    "# Import libraries related to Model creation\n",
    "import pandas as pd\n",
    "from sklearn.linear_model import LogisticRegression\n",
    "from sklearn.model_selection import train_test_split"
   ]
  },
  {
   "cell_type": "markdown",
   "metadata": {},
   "source": [
    "### Load Breast Cancer Dataset\n",
    "- - -\n",
    "This breast cancer dataset was obtained from the University of Wisconsin Hospitals, Madison from Dr. William H. Wolberg."
   ]
  },
  {
   "cell_type": "code",
   "execution_count": 2,
   "metadata": {},
   "outputs": [
    {
     "data": {
      "text/html": [
       "<div>\n",
       "<style scoped>\n",
       "    .dataframe tbody tr th:only-of-type {\n",
       "        vertical-align: middle;\n",
       "    }\n",
       "\n",
       "    .dataframe tbody tr th {\n",
       "        vertical-align: top;\n",
       "    }\n",
       "\n",
       "    .dataframe thead th {\n",
       "        text-align: right;\n",
       "    }\n",
       "</style>\n",
       "<table border=\"1\" class=\"dataframe\">\n",
       "  <thead>\n",
       "    <tr style=\"text-align: right;\">\n",
       "      <th></th>\n",
       "      <th>mean_radius</th>\n",
       "      <th>mean_texture</th>\n",
       "      <th>mean_perimeter</th>\n",
       "      <th>mean_area</th>\n",
       "      <th>mean_smoothness</th>\n",
       "      <th>diagnosis</th>\n",
       "    </tr>\n",
       "  </thead>\n",
       "  <tbody>\n",
       "    <tr>\n",
       "      <th>192</th>\n",
       "      <td>9.72</td>\n",
       "      <td>18.22</td>\n",
       "      <td>60.73</td>\n",
       "      <td>288.1</td>\n",
       "      <td>0.070</td>\n",
       "      <td>1</td>\n",
       "    </tr>\n",
       "    <tr>\n",
       "      <th>120</th>\n",
       "      <td>11.41</td>\n",
       "      <td>10.82</td>\n",
       "      <td>73.34</td>\n",
       "      <td>403.3</td>\n",
       "      <td>0.094</td>\n",
       "      <td>1</td>\n",
       "    </tr>\n",
       "    <tr>\n",
       "      <th>332</th>\n",
       "      <td>11.22</td>\n",
       "      <td>19.86</td>\n",
       "      <td>71.94</td>\n",
       "      <td>387.3</td>\n",
       "      <td>0.105</td>\n",
       "      <td>1</td>\n",
       "    </tr>\n",
       "    <tr>\n",
       "      <th>132</th>\n",
       "      <td>16.16</td>\n",
       "      <td>21.54</td>\n",
       "      <td>106.20</td>\n",
       "      <td>809.8</td>\n",
       "      <td>0.101</td>\n",
       "      <td>0</td>\n",
       "    </tr>\n",
       "    <tr>\n",
       "      <th>161</th>\n",
       "      <td>19.19</td>\n",
       "      <td>15.94</td>\n",
       "      <td>126.30</td>\n",
       "      <td>1157.0</td>\n",
       "      <td>0.087</td>\n",
       "      <td>0</td>\n",
       "    </tr>\n",
       "  </tbody>\n",
       "</table>\n",
       "</div>"
      ],
      "text/plain": [
       "     mean_radius  mean_texture  mean_perimeter  mean_area  mean_smoothness  \\\n",
       "192         9.72         18.22           60.73      288.1            0.070   \n",
       "120        11.41         10.82           73.34      403.3            0.094   \n",
       "332        11.22         19.86           71.94      387.3            0.105   \n",
       "132        16.16         21.54          106.20      809.8            0.101   \n",
       "161        19.19         15.94          126.30     1157.0            0.087   \n",
       "\n",
       "     diagnosis  \n",
       "192          1  \n",
       "120          1  \n",
       "332          1  \n",
       "132          0  \n",
       "161          0  "
      ]
     },
     "execution_count": 2,
     "metadata": {},
     "output_type": "execute_result"
    }
   ],
   "source": [
    "data = pd.read_csv('./Breast_cancer_data.csv')\n",
    "data.sample(5)"
   ]
  },
  {
   "cell_type": "code",
   "execution_count": 3,
   "metadata": {},
   "outputs": [],
   "source": [
    "# Split into trainingset and testset --> EXTERNAL EVALUATION\n",
    "X_train, X_test, y_train, y_test = train_test_split(data.drop([\"diagnosis\"], axis=1), data.diagnosis, test_size=.3, random_state=13)"
   ]
  },
  {
   "cell_type": "markdown",
   "metadata": {},
   "source": [
    "### Assess model fit using Framework - **Well calibrated** model\n",
    "- - -"
   ]
  },
  {
   "cell_type": "code",
   "execution_count": 4,
   "metadata": {},
   "outputs": [],
   "source": [
    "# Train a logistic regression model on data\n",
    "clf = LogisticRegression(random_state=3)\n",
    "clf.fit(X_train, y_train)\n",
    "pred_prob = clf.predict_proba(X_test)[:,1]"
   ]
  },
  {
   "cell_type": "code",
   "execution_count": 5,
   "metadata": {},
   "outputs": [],
   "source": [
    "# Initialze Calibration Framework\n",
    "ce = CalibrationEvaluator(y_test, pred_prob, outsample=True, n_groups='auto')"
   ]
  },
  {
   "cell_type": "markdown",
   "metadata": {},
   "source": [
    "- Get Metrics:"
   ]
  },
  {
   "cell_type": "code",
   "execution_count": 6,
   "metadata": {},
   "outputs": [
    {
     "data": {
      "text/plain": [
       "metrics_result(auroc=0.9739811912225705, brier=0.06046569608229078, ace=0.0361775962446639, mce=0.1837227304691177, awlc=0.041378119184027194)"
      ]
     },
     "execution_count": 6,
     "metadata": {},
     "output_type": "execute_result"
    }
   ],
   "source": [
    "ce.metrics()"
   ]
  },
  {
   "cell_type": "markdown",
   "metadata": {},
   "source": [
    "- Apply Hosmer Lemeshow Test and Pigeon Heyse Test:"
   ]
  },
  {
   "cell_type": "code",
   "execution_count": 7,
   "metadata": {},
   "outputs": [
    {
     "data": {
      "text/html": [
       "<style type=\"text/css\">\n",
       "#T_d389c_row0_col0, #T_d389c_row0_col1, #T_d389c_row0_col2, #T_d389c_row0_col3, #T_d389c_row0_col4, #T_d389c_row0_col5, #T_d389c_row1_col0, #T_d389c_row1_col1, #T_d389c_row1_col2, #T_d389c_row1_col3, #T_d389c_row1_col4, #T_d389c_row1_col5, #T_d389c_row2_col0, #T_d389c_row2_col1, #T_d389c_row2_col2, #T_d389c_row2_col3, #T_d389c_row2_col4, #T_d389c_row3_col0, #T_d389c_row3_col1, #T_d389c_row3_col2, #T_d389c_row3_col3, #T_d389c_row3_col4, #T_d389c_row3_col5, #T_d389c_row4_col0, #T_d389c_row4_col1, #T_d389c_row4_col2, #T_d389c_row4_col3, #T_d389c_row4_col4, #T_d389c_row4_col5, #T_d389c_row5_col0, #T_d389c_row5_col1, #T_d389c_row5_col2, #T_d389c_row5_col3, #T_d389c_row5_col4, #T_d389c_row5_col5, #T_d389c_row6_col0, #T_d389c_row6_col1, #T_d389c_row6_col2, #T_d389c_row6_col3, #T_d389c_row6_col4, #T_d389c_row6_col5, #T_d389c_row7_col0, #T_d389c_row7_col1, #T_d389c_row7_col2, #T_d389c_row7_col3, #T_d389c_row7_col4, #T_d389c_row7_col5, #T_d389c_row8_col0, #T_d389c_row8_col1, #T_d389c_row8_col2, #T_d389c_row8_col3, #T_d389c_row8_col4, #T_d389c_row8_col5 {\n",
       "  color: black;\n",
       "}\n",
       "#T_d389c_row2_col5 {\n",
       "  color: red;\n",
       "}\n",
       "</style>\n",
       "<table id=\"T_d389c_\">\n",
       "  <thead>\n",
       "    <tr>\n",
       "      <th class=\"blank level0\" >&nbsp;</th>\n",
       "      <th class=\"col_heading level0 col0\" >Interval</th>\n",
       "      <th class=\"col_heading level0 col1\" >total</th>\n",
       "      <th class=\"col_heading level0 col2\" >mean_predicted</th>\n",
       "      <th class=\"col_heading level0 col3\" >mean_observed</th>\n",
       "      <th class=\"col_heading level0 col4\" >observed_1</th>\n",
       "      <th class=\"col_heading level0 col5\" >predicted_1</th>\n",
       "    </tr>\n",
       "  </thead>\n",
       "  <tbody>\n",
       "    <tr>\n",
       "      <th id=\"T_d389c_level0_row0\" class=\"row_heading level0 row0\" >0</th>\n",
       "      <td id=\"T_d389c_row0_col0\" class=\"data row0 col0\" >(-0.00099843, 0.0114]</td>\n",
       "      <td id=\"T_d389c_row0_col1\" class=\"data row0 col1\" >19</td>\n",
       "      <td id=\"T_d389c_row0_col2\" class=\"data row0 col2\" >0.003</td>\n",
       "      <td id=\"T_d389c_row0_col3\" class=\"data row0 col3\" >0.000</td>\n",
       "      <td id=\"T_d389c_row0_col4\" class=\"data row0 col4\" >0</td>\n",
       "      <td id=\"T_d389c_row0_col5\" class=\"data row0 col5\" >0.054</td>\n",
       "    </tr>\n",
       "    <tr>\n",
       "      <th id=\"T_d389c_level0_row1\" class=\"row_heading level0 row1\" >1</th>\n",
       "      <td id=\"T_d389c_row1_col0\" class=\"data row1 col0\" >(0.0114, 0.116]</td>\n",
       "      <td id=\"T_d389c_row1_col1\" class=\"data row1 col1\" >19</td>\n",
       "      <td id=\"T_d389c_row1_col2\" class=\"data row1 col2\" >0.042</td>\n",
       "      <td id=\"T_d389c_row1_col3\" class=\"data row1 col3\" >0.000</td>\n",
       "      <td id=\"T_d389c_row1_col4\" class=\"data row1 col4\" >0</td>\n",
       "      <td id=\"T_d389c_row1_col5\" class=\"data row1 col5\" >0.807</td>\n",
       "    </tr>\n",
       "    <tr>\n",
       "      <th id=\"T_d389c_level0_row2\" class=\"row_heading level0 row2\" >2</th>\n",
       "      <td id=\"T_d389c_row2_col0\" class=\"data row2 col0\" >(0.116, 0.506]</td>\n",
       "      <td id=\"T_d389c_row2_col1\" class=\"data row2 col1\" >19</td>\n",
       "      <td id=\"T_d389c_row2_col2\" class=\"data row2 col2\" >0.290</td>\n",
       "      <td id=\"T_d389c_row2_col3\" class=\"data row2 col3\" >0.474</td>\n",
       "      <td id=\"T_d389c_row2_col4\" class=\"data row2 col4\" >9</td>\n",
       "      <td id=\"T_d389c_row2_col5\" class=\"data row2 col5\" >5.509</td>\n",
       "    </tr>\n",
       "    <tr>\n",
       "      <th id=\"T_d389c_level0_row3\" class=\"row_heading level0 row3\" >3</th>\n",
       "      <td id=\"T_d389c_row3_col0\" class=\"data row3 col0\" >(0.506, 0.853]</td>\n",
       "      <td id=\"T_d389c_row3_col1\" class=\"data row3 col1\" >19</td>\n",
       "      <td id=\"T_d389c_row3_col2\" class=\"data row3 col2\" >0.719</td>\n",
       "      <td id=\"T_d389c_row3_col3\" class=\"data row3 col3\" >0.737</td>\n",
       "      <td id=\"T_d389c_row3_col4\" class=\"data row3 col4\" >14</td>\n",
       "      <td id=\"T_d389c_row3_col5\" class=\"data row3 col5\" >13.667</td>\n",
       "    </tr>\n",
       "    <tr>\n",
       "      <th id=\"T_d389c_level0_row4\" class=\"row_heading level0 row4\" >4</th>\n",
       "      <td id=\"T_d389c_row4_col0\" class=\"data row4 col0\" >(0.853, 0.942]</td>\n",
       "      <td id=\"T_d389c_row4_col1\" class=\"data row4 col1\" >19</td>\n",
       "      <td id=\"T_d389c_row4_col2\" class=\"data row4 col2\" >0.907</td>\n",
       "      <td id=\"T_d389c_row4_col3\" class=\"data row4 col3\" >0.947</td>\n",
       "      <td id=\"T_d389c_row4_col4\" class=\"data row4 col4\" >18</td>\n",
       "      <td id=\"T_d389c_row4_col5\" class=\"data row4 col5\" >17.230</td>\n",
       "    </tr>\n",
       "    <tr>\n",
       "      <th id=\"T_d389c_level0_row5\" class=\"row_heading level0 row5\" >5</th>\n",
       "      <td id=\"T_d389c_row5_col0\" class=\"data row5 col0\" >(0.942, 0.974]</td>\n",
       "      <td id=\"T_d389c_row5_col1\" class=\"data row5 col1\" >19</td>\n",
       "      <td id=\"T_d389c_row5_col2\" class=\"data row5 col2\" >0.961</td>\n",
       "      <td id=\"T_d389c_row5_col3\" class=\"data row5 col3\" >0.947</td>\n",
       "      <td id=\"T_d389c_row5_col4\" class=\"data row5 col4\" >18</td>\n",
       "      <td id=\"T_d389c_row5_col5\" class=\"data row5 col5\" >18.265</td>\n",
       "    </tr>\n",
       "    <tr>\n",
       "      <th id=\"T_d389c_level0_row6\" class=\"row_heading level0 row6\" >6</th>\n",
       "      <td id=\"T_d389c_row6_col0\" class=\"data row6 col0\" >(0.974, 0.989]</td>\n",
       "      <td id=\"T_d389c_row6_col1\" class=\"data row6 col1\" >19</td>\n",
       "      <td id=\"T_d389c_row6_col2\" class=\"data row6 col2\" >0.983</td>\n",
       "      <td id=\"T_d389c_row6_col3\" class=\"data row6 col3\" >1.000</td>\n",
       "      <td id=\"T_d389c_row6_col4\" class=\"data row6 col4\" >19</td>\n",
       "      <td id=\"T_d389c_row6_col5\" class=\"data row6 col5\" >18.682</td>\n",
       "    </tr>\n",
       "    <tr>\n",
       "      <th id=\"T_d389c_level0_row7\" class=\"row_heading level0 row7\" >7</th>\n",
       "      <td id=\"T_d389c_row7_col0\" class=\"data row7 col0\" >(0.989, 0.997]</td>\n",
       "      <td id=\"T_d389c_row7_col1\" class=\"data row7 col1\" >19</td>\n",
       "      <td id=\"T_d389c_row7_col2\" class=\"data row7 col2\" >0.993</td>\n",
       "      <td id=\"T_d389c_row7_col3\" class=\"data row7 col3\" >1.000</td>\n",
       "      <td id=\"T_d389c_row7_col4\" class=\"data row7 col4\" >19</td>\n",
       "      <td id=\"T_d389c_row7_col5\" class=\"data row7 col5\" >18.872</td>\n",
       "    </tr>\n",
       "    <tr>\n",
       "      <th id=\"T_d389c_level0_row8\" class=\"row_heading level0 row8\" >8</th>\n",
       "      <td id=\"T_d389c_row8_col0\" class=\"data row8 col0\" >(0.997, 1.0]</td>\n",
       "      <td id=\"T_d389c_row8_col1\" class=\"data row8 col1\" >19</td>\n",
       "      <td id=\"T_d389c_row8_col2\" class=\"data row8 col2\" >0.999</td>\n",
       "      <td id=\"T_d389c_row8_col3\" class=\"data row8 col3\" >1.000</td>\n",
       "      <td id=\"T_d389c_row8_col4\" class=\"data row8 col4\" >19</td>\n",
       "      <td id=\"T_d389c_row8_col5\" class=\"data row8 col5\" >18.980</td>\n",
       "    </tr>\n",
       "  </tbody>\n",
       "</table>\n"
      ],
      "text/plain": [
       "<pandas.io.formats.style.Styler at 0x239fe14f970>"
      ]
     },
     "metadata": {},
     "output_type": "display_data"
    },
    {
     "name": "stdout",
     "output_type": "stream",
     "text": [
      "Warning! Some expected frequencies are smaller then 1. Possible violoation of chi²-distribution.\n",
      "C(9): 4.98 p-value: 0.836\n"
     ]
    },
    {
     "data": {
      "text/plain": [
       "hltest_result(statistic=4.982635477424991, pvalue=0.8358193332183672, dof=9)"
      ]
     },
     "execution_count": 7,
     "metadata": {},
     "output_type": "execute_result"
    }
   ],
   "source": [
    "ce.hosmerlemeshow()"
   ]
  },
  {
   "cell_type": "code",
   "execution_count": 8,
   "metadata": {},
   "outputs": [
    {
     "data": {
      "text/html": [
       "<style type=\"text/css\">\n",
       "#T_6348c_row0_col0, #T_6348c_row0_col1, #T_6348c_row0_col2, #T_6348c_row0_col3, #T_6348c_row0_col4, #T_6348c_row0_col5, #T_6348c_row0_col6, #T_6348c_row1_col0, #T_6348c_row1_col1, #T_6348c_row1_col2, #T_6348c_row1_col3, #T_6348c_row1_col4, #T_6348c_row1_col5, #T_6348c_row1_col6, #T_6348c_row2_col0, #T_6348c_row2_col1, #T_6348c_row2_col2, #T_6348c_row2_col3, #T_6348c_row2_col4, #T_6348c_row2_col5, #T_6348c_row3_col0, #T_6348c_row3_col1, #T_6348c_row3_col2, #T_6348c_row3_col3, #T_6348c_row3_col4, #T_6348c_row3_col5, #T_6348c_row3_col6, #T_6348c_row4_col0, #T_6348c_row4_col1, #T_6348c_row4_col2, #T_6348c_row4_col3, #T_6348c_row4_col4, #T_6348c_row4_col5, #T_6348c_row4_col6, #T_6348c_row5_col0, #T_6348c_row5_col1, #T_6348c_row5_col2, #T_6348c_row5_col3, #T_6348c_row5_col4, #T_6348c_row5_col5, #T_6348c_row5_col6, #T_6348c_row6_col0, #T_6348c_row6_col1, #T_6348c_row6_col2, #T_6348c_row6_col3, #T_6348c_row6_col4, #T_6348c_row6_col5, #T_6348c_row6_col6, #T_6348c_row7_col0, #T_6348c_row7_col1, #T_6348c_row7_col2, #T_6348c_row7_col3, #T_6348c_row7_col4, #T_6348c_row7_col5, #T_6348c_row7_col6, #T_6348c_row8_col0, #T_6348c_row8_col1, #T_6348c_row8_col2, #T_6348c_row8_col3, #T_6348c_row8_col4, #T_6348c_row8_col5, #T_6348c_row8_col6 {\n",
       "  color: black;\n",
       "}\n",
       "#T_6348c_row2_col6 {\n",
       "  color: red;\n",
       "}\n",
       "</style>\n",
       "<table id=\"T_6348c_\">\n",
       "  <thead>\n",
       "    <tr>\n",
       "      <th class=\"blank level0\" >&nbsp;</th>\n",
       "      <th class=\"col_heading level0 col0\" >Interval</th>\n",
       "      <th class=\"col_heading level0 col1\" >total</th>\n",
       "      <th class=\"col_heading level0 col2\" >mean_predicted</th>\n",
       "      <th class=\"col_heading level0 col3\" >mean_observed</th>\n",
       "      <th class=\"col_heading level0 col4\" >phi</th>\n",
       "      <th class=\"col_heading level0 col5\" >observed_1</th>\n",
       "      <th class=\"col_heading level0 col6\" >predicted_1</th>\n",
       "    </tr>\n",
       "  </thead>\n",
       "  <tbody>\n",
       "    <tr>\n",
       "      <th id=\"T_6348c_level0_row0\" class=\"row_heading level0 row0\" >0</th>\n",
       "      <td id=\"T_6348c_row0_col0\" class=\"data row0 col0\" >(-0.00099843, 0.0114]</td>\n",
       "      <td id=\"T_6348c_row0_col1\" class=\"data row0 col1\" >19</td>\n",
       "      <td id=\"T_6348c_row0_col2\" class=\"data row0 col2\" >0.003</td>\n",
       "      <td id=\"T_6348c_row0_col3\" class=\"data row0 col3\" >0.000</td>\n",
       "      <td id=\"T_6348c_row0_col4\" class=\"data row0 col4\" >0.995</td>\n",
       "      <td id=\"T_6348c_row0_col5\" class=\"data row0 col5\" >0</td>\n",
       "      <td id=\"T_6348c_row0_col6\" class=\"data row0 col6\" >0.054</td>\n",
       "    </tr>\n",
       "    <tr>\n",
       "      <th id=\"T_6348c_level0_row1\" class=\"row_heading level0 row1\" >1</th>\n",
       "      <td id=\"T_6348c_row1_col0\" class=\"data row1 col0\" >(0.0114, 0.116]</td>\n",
       "      <td id=\"T_6348c_row1_col1\" class=\"data row1 col1\" >19</td>\n",
       "      <td id=\"T_6348c_row1_col2\" class=\"data row1 col2\" >0.042</td>\n",
       "      <td id=\"T_6348c_row1_col3\" class=\"data row1 col3\" >0.000</td>\n",
       "      <td id=\"T_6348c_row1_col4\" class=\"data row1 col4\" >0.980</td>\n",
       "      <td id=\"T_6348c_row1_col5\" class=\"data row1 col5\" >0</td>\n",
       "      <td id=\"T_6348c_row1_col6\" class=\"data row1 col6\" >0.807</td>\n",
       "    </tr>\n",
       "    <tr>\n",
       "      <th id=\"T_6348c_level0_row2\" class=\"row_heading level0 row2\" >2</th>\n",
       "      <td id=\"T_6348c_row2_col0\" class=\"data row2 col0\" >(0.116, 0.506]</td>\n",
       "      <td id=\"T_6348c_row2_col1\" class=\"data row2 col1\" >19</td>\n",
       "      <td id=\"T_6348c_row2_col2\" class=\"data row2 col2\" >0.290</td>\n",
       "      <td id=\"T_6348c_row2_col3\" class=\"data row2 col3\" >0.474</td>\n",
       "      <td id=\"T_6348c_row2_col4\" class=\"data row2 col4\" >0.922</td>\n",
       "      <td id=\"T_6348c_row2_col5\" class=\"data row2 col5\" >9</td>\n",
       "      <td id=\"T_6348c_row2_col6\" class=\"data row2 col6\" >5.509</td>\n",
       "    </tr>\n",
       "    <tr>\n",
       "      <th id=\"T_6348c_level0_row3\" class=\"row_heading level0 row3\" >3</th>\n",
       "      <td id=\"T_6348c_row3_col0\" class=\"data row3 col0\" >(0.506, 0.853]</td>\n",
       "      <td id=\"T_6348c_row3_col1\" class=\"data row3 col1\" >19</td>\n",
       "      <td id=\"T_6348c_row3_col2\" class=\"data row3 col2\" >0.719</td>\n",
       "      <td id=\"T_6348c_row3_col3\" class=\"data row3 col3\" >0.737</td>\n",
       "      <td id=\"T_6348c_row3_col4\" class=\"data row3 col4\" >0.939</td>\n",
       "      <td id=\"T_6348c_row3_col5\" class=\"data row3 col5\" >14</td>\n",
       "      <td id=\"T_6348c_row3_col6\" class=\"data row3 col6\" >13.667</td>\n",
       "    </tr>\n",
       "    <tr>\n",
       "      <th id=\"T_6348c_level0_row4\" class=\"row_heading level0 row4\" >4</th>\n",
       "      <td id=\"T_6348c_row4_col0\" class=\"data row4 col0\" >(0.853, 0.942]</td>\n",
       "      <td id=\"T_6348c_row4_col1\" class=\"data row4 col1\" >19</td>\n",
       "      <td id=\"T_6348c_row4_col2\" class=\"data row4 col2\" >0.907</td>\n",
       "      <td id=\"T_6348c_row4_col3\" class=\"data row4 col3\" >0.947</td>\n",
       "      <td id=\"T_6348c_row4_col4\" class=\"data row4 col4\" >0.993</td>\n",
       "      <td id=\"T_6348c_row4_col5\" class=\"data row4 col5\" >18</td>\n",
       "      <td id=\"T_6348c_row4_col6\" class=\"data row4 col6\" >17.230</td>\n",
       "    </tr>\n",
       "    <tr>\n",
       "      <th id=\"T_6348c_level0_row5\" class=\"row_heading level0 row5\" >5</th>\n",
       "      <td id=\"T_6348c_row5_col0\" class=\"data row5 col0\" >(0.942, 0.974]</td>\n",
       "      <td id=\"T_6348c_row5_col1\" class=\"data row5 col1\" >19</td>\n",
       "      <td id=\"T_6348c_row5_col2\" class=\"data row5 col2\" >0.961</td>\n",
       "      <td id=\"T_6348c_row5_col3\" class=\"data row5 col3\" >0.947</td>\n",
       "      <td id=\"T_6348c_row5_col4\" class=\"data row5 col4\" >0.998</td>\n",
       "      <td id=\"T_6348c_row5_col5\" class=\"data row5 col5\" >18</td>\n",
       "      <td id=\"T_6348c_row5_col6\" class=\"data row5 col6\" >18.265</td>\n",
       "    </tr>\n",
       "    <tr>\n",
       "      <th id=\"T_6348c_level0_row6\" class=\"row_heading level0 row6\" >6</th>\n",
       "      <td id=\"T_6348c_row6_col0\" class=\"data row6 col0\" >(0.974, 0.989]</td>\n",
       "      <td id=\"T_6348c_row6_col1\" class=\"data row6 col1\" >19</td>\n",
       "      <td id=\"T_6348c_row6_col2\" class=\"data row6 col2\" >0.983</td>\n",
       "      <td id=\"T_6348c_row6_col3\" class=\"data row6 col3\" >1.000</td>\n",
       "      <td id=\"T_6348c_row6_col4\" class=\"data row6 col4\" >0.999</td>\n",
       "      <td id=\"T_6348c_row6_col5\" class=\"data row6 col5\" >19</td>\n",
       "      <td id=\"T_6348c_row6_col6\" class=\"data row6 col6\" >18.682</td>\n",
       "    </tr>\n",
       "    <tr>\n",
       "      <th id=\"T_6348c_level0_row7\" class=\"row_heading level0 row7\" >7</th>\n",
       "      <td id=\"T_6348c_row7_col0\" class=\"data row7 col0\" >(0.989, 0.997]</td>\n",
       "      <td id=\"T_6348c_row7_col1\" class=\"data row7 col1\" >19</td>\n",
       "      <td id=\"T_6348c_row7_col2\" class=\"data row7 col2\" >0.993</td>\n",
       "      <td id=\"T_6348c_row7_col3\" class=\"data row7 col3\" >1.000</td>\n",
       "      <td id=\"T_6348c_row7_col4\" class=\"data row7 col4\" >0.999</td>\n",
       "      <td id=\"T_6348c_row7_col5\" class=\"data row7 col5\" >19</td>\n",
       "      <td id=\"T_6348c_row7_col6\" class=\"data row7 col6\" >18.872</td>\n",
       "    </tr>\n",
       "    <tr>\n",
       "      <th id=\"T_6348c_level0_row8\" class=\"row_heading level0 row8\" >8</th>\n",
       "      <td id=\"T_6348c_row8_col0\" class=\"data row8 col0\" >(0.997, 1.0]</td>\n",
       "      <td id=\"T_6348c_row8_col1\" class=\"data row8 col1\" >19</td>\n",
       "      <td id=\"T_6348c_row8_col2\" class=\"data row8 col2\" >0.999</td>\n",
       "      <td id=\"T_6348c_row8_col3\" class=\"data row8 col3\" >1.000</td>\n",
       "      <td id=\"T_6348c_row8_col4\" class=\"data row8 col4\" >0.999</td>\n",
       "      <td id=\"T_6348c_row8_col5\" class=\"data row8 col5\" >19</td>\n",
       "      <td id=\"T_6348c_row8_col6\" class=\"data row8 col6\" >18.980</td>\n",
       "    </tr>\n",
       "  </tbody>\n",
       "</table>\n"
      ],
      "text/plain": [
       "<pandas.io.formats.style.Styler at 0x239fe4538e0>"
      ]
     },
     "metadata": {},
     "output_type": "display_data"
    },
    {
     "name": "stdout",
     "output_type": "stream",
     "text": [
      "Warning! Some expected frequencies are smaller then 1. Possible violoation of chi²-distribution.\n",
      "J²(9): 5.27 p-value: 0.810\n"
     ]
    },
    {
     "data": {
      "text/plain": [
       "phtest_result(statistic=5.269600396341568, pvalue=0.8102017228852412, dof=9)"
      ]
     },
     "execution_count": 8,
     "metadata": {},
     "output_type": "execute_result"
    }
   ],
   "source": [
    "ce.pigeonheyse()"
   ]
  },
  {
   "cell_type": "markdown",
   "metadata": {},
   "source": [
    "- Apply z-Test"
   ]
  },
  {
   "cell_type": "code",
   "execution_count": 9,
   "metadata": {},
   "outputs": [
    {
     "data": {
      "text/plain": [
       "ztest_result(statistic=-0.21590257919669287, pvalue=0.829063686607032)"
      ]
     },
     "execution_count": 9,
     "metadata": {},
     "output_type": "execute_result"
    }
   ],
   "source": [
    "ce.z_test()"
   ]
  },
  {
   "cell_type": "markdown",
   "metadata": {},
   "source": [
    "- Draw the calibration plot"
   ]
  },
  {
   "cell_type": "code",
   "execution_count": 12,
   "metadata": {},
   "outputs": [
    {
     "data": {
      "image/png": "[encoded data removed]",
      "text/plain": [
       "<Figure size 720x432 with 2 Axes>"
      ]
     },
     "metadata": {
      "needs_background": "light"
     },
     "output_type": "display_data"
    }
   ],
   "source": [
    "ce.calibration_plot();"
   ]
  },
  {
   "cell_type": "markdown",
   "metadata": {},
   "source": [
    "- Draw the calibration belt"
   ]
  },
  {
   "cell_type": "code",
   "execution_count": 11,
   "metadata": {},
   "outputs": [
    {
     "name": "stderr",
     "output_type": "stream",
     "text": [
      "100%|██████████| 50/50 [00:02<00:00, 24.06it/s]\n",
      "100%|██████████| 50/50 [00:01<00:00, 25.18it/s]\n"
     ]
    },
    {
     "data": {
      "text/plain": [
       "calbelt_result(statistic=1.6111330037643796, pvalue=0.4468347221346196, fig=<Figure size 720x432 with 1 Axes>)"
      ]
     },
     "execution_count": 11,
     "metadata": {},
     "output_type": "execute_result"
    },
    {
     "data": {
      "image/png": "[encoded data removed]",
      "text/plain": [
       "<Figure size 720x432 with 1 Axes>"
      ]
     },
     "metadata": {
      "needs_background": "light"
     },
     "output_type": "display_data"
    }
   ],
   "source": [
    "ce.calbelt(plot=True)"
   ]
  },
  {
   "cell_type": "markdown",
   "metadata": {},
   "source": [
    "- Create calibration report for the model"
   ]
  },
  {
   "cell_type": "code",
   "execution_count": 12,
   "metadata": {},
   "outputs": [
    {
     "name": "stderr",
     "output_type": "stream",
     "text": [
      "100%|██████████| 50/50 [00:01<00:00, 25.12it/s]\n",
      "100%|██████████| 50/50 [00:01<00:00, 25.26it/s]\n"
     ]
    },
    {
     "name": "stdout",
     "output_type": "stream",
     "text": [
      "Calibration report for model 'my_log_reg1' saved to report_well.pdf\n"
     ]
    }
   ],
   "source": [
    "ce.calibration_report('report_well.pdf', 'my_log_reg1')"
   ]
  },
  {
   "cell_type": "markdown",
   "metadata": {},
   "source": [
    "### Assess model fit using Framework - **Poorly calibrated** model\n",
    "- - -\n",
    "*NOTE:* The number of iterations of the logistic regression solver were limited in order to produce a poorly calibrated model"
   ]
  },
  {
   "cell_type": "code",
   "execution_count": 13,
   "metadata": {},
   "outputs": [],
   "source": [
    "import warnings\n",
    "from sklearn.exceptions import ConvergenceWarning\n",
    "\n",
    "with warnings.catch_warnings():\n",
    "    # Ignore warning issued due to limitation of iterations\n",
    "    warnings.filterwarnings(\"ignore\", category=ConvergenceWarning)\n",
    "\n",
    "    # Train a poorly calibrated logistic regression model on data\n",
    "    clf2 = LogisticRegression(random_state=2, max_iter=5) # --> Limited number of iterations\n",
    "    clf2.fit(X_train, y_train)\n",
    "    pred_prob = clf2.predict_proba(X_test)[:,1]"
   ]
  },
  {
   "cell_type": "code",
   "execution_count": 14,
   "metadata": {},
   "outputs": [],
   "source": [
    "# Initialze Calibration Framework\n",
    "ce = CalibrationEvaluator(y_test, pred_prob, outsample=True, n_groups='auto')"
   ]
  },
  {
   "cell_type": "markdown",
   "metadata": {},
   "source": [
    "- Get Metrics"
   ]
  },
  {
   "cell_type": "code",
   "execution_count": 15,
   "metadata": {},
   "outputs": [
    {
     "data": {
      "text/plain": [
       "metrics_result(auroc=0.923510971786834, brier=0.11613012445387014, ace=0.14236904925295432, mce=0.26342217828393727, awlc=0.14195209162143274)"
      ]
     },
     "execution_count": 15,
     "metadata": {},
     "output_type": "execute_result"
    }
   ],
   "source": [
    "ce.metrics()"
   ]
  },
  {
   "cell_type": "markdown",
   "metadata": {},
   "source": [
    "- Apply Hosmer Lemeshow Test and Pigeon Heyse Test:"
   ]
  },
  {
   "cell_type": "code",
   "execution_count": 16,
   "metadata": {},
   "outputs": [
    {
     "data": {
      "text/html": [
       "<style type=\"text/css\">\n",
       "#T_d400b_row0_col0, #T_d400b_row0_col1, #T_d400b_row0_col2, #T_d400b_row0_col3, #T_d400b_row0_col4, #T_d400b_row0_col5, #T_d400b_row1_col0, #T_d400b_row1_col1, #T_d400b_row1_col2, #T_d400b_row1_col3, #T_d400b_row1_col4, #T_d400b_row1_col5, #T_d400b_row2_col0, #T_d400b_row2_col1, #T_d400b_row2_col2, #T_d400b_row2_col3, #T_d400b_row2_col4, #T_d400b_row3_col0, #T_d400b_row3_col1, #T_d400b_row3_col2, #T_d400b_row3_col3, #T_d400b_row3_col4, #T_d400b_row4_col0, #T_d400b_row4_col1, #T_d400b_row4_col2, #T_d400b_row4_col3, #T_d400b_row4_col4, #T_d400b_row4_col5, #T_d400b_row5_col0, #T_d400b_row5_col1, #T_d400b_row5_col2, #T_d400b_row5_col3, #T_d400b_row5_col4, #T_d400b_row6_col0, #T_d400b_row6_col1, #T_d400b_row6_col2, #T_d400b_row6_col3, #T_d400b_row6_col4, #T_d400b_row7_col0, #T_d400b_row7_col1, #T_d400b_row7_col2, #T_d400b_row7_col3, #T_d400b_row7_col4, #T_d400b_row8_col0, #T_d400b_row8_col1, #T_d400b_row8_col2, #T_d400b_row8_col3, #T_d400b_row8_col4, #T_d400b_row8_col5 {\n",
       "  color: black;\n",
       "}\n",
       "#T_d400b_row2_col5, #T_d400b_row3_col5, #T_d400b_row5_col5, #T_d400b_row6_col5, #T_d400b_row7_col5 {\n",
       "  color: red;\n",
       "}\n",
       "</style>\n",
       "<table id=\"T_d400b_\">\n",
       "  <thead>\n",
       "    <tr>\n",
       "      <th class=\"blank level0\" >&nbsp;</th>\n",
       "      <th class=\"col_heading level0 col0\" >Interval</th>\n",
       "      <th class=\"col_heading level0 col1\" >total</th>\n",
       "      <th class=\"col_heading level0 col2\" >mean_predicted</th>\n",
       "      <th class=\"col_heading level0 col3\" >mean_observed</th>\n",
       "      <th class=\"col_heading level0 col4\" >observed_1</th>\n",
       "      <th class=\"col_heading level0 col5\" >predicted_1</th>\n",
       "    </tr>\n",
       "  </thead>\n",
       "  <tbody>\n",
       "    <tr>\n",
       "      <th id=\"T_d400b_level0_row0\" class=\"row_heading level0 row0\" >0</th>\n",
       "      <td id=\"T_d400b_row0_col0\" class=\"data row0 col0\" >(-0.0009678, 0.053]</td>\n",
       "      <td id=\"T_d400b_row0_col1\" class=\"data row0 col1\" >19</td>\n",
       "      <td id=\"T_d400b_row0_col2\" class=\"data row0 col2\" >0.022</td>\n",
       "      <td id=\"T_d400b_row0_col3\" class=\"data row0 col3\" >0.000</td>\n",
       "      <td id=\"T_d400b_row0_col4\" class=\"data row0 col4\" >0</td>\n",
       "      <td id=\"T_d400b_row0_col5\" class=\"data row0 col5\" >0.418</td>\n",
       "    </tr>\n",
       "    <tr>\n",
       "      <th id=\"T_d400b_level0_row1\" class=\"row_heading level0 row1\" >1</th>\n",
       "      <td id=\"T_d400b_row1_col0\" class=\"data row1 col0\" >(0.053, 0.229]</td>\n",
       "      <td id=\"T_d400b_row1_col1\" class=\"data row1 col1\" >19</td>\n",
       "      <td id=\"T_d400b_row1_col2\" class=\"data row1 col2\" >0.112</td>\n",
       "      <td id=\"T_d400b_row1_col3\" class=\"data row1 col3\" >0.105</td>\n",
       "      <td id=\"T_d400b_row1_col4\" class=\"data row1 col4\" >2</td>\n",
       "      <td id=\"T_d400b_row1_col5\" class=\"data row1 col5\" >2.136</td>\n",
       "    </tr>\n",
       "    <tr>\n",
       "      <th id=\"T_d400b_level0_row2\" class=\"row_heading level0 row2\" >2</th>\n",
       "      <td id=\"T_d400b_row2_col0\" class=\"data row2 col0\" >(0.229, 0.512]</td>\n",
       "      <td id=\"T_d400b_row2_col1\" class=\"data row2 col1\" >19</td>\n",
       "      <td id=\"T_d400b_row2_col2\" class=\"data row2 col2\" >0.368</td>\n",
       "      <td id=\"T_d400b_row2_col3\" class=\"data row2 col3\" >0.632</td>\n",
       "      <td id=\"T_d400b_row2_col4\" class=\"data row2 col4\" >12</td>\n",
       "      <td id=\"T_d400b_row2_col5\" class=\"data row2 col5\" >6.995</td>\n",
       "    </tr>\n",
       "    <tr>\n",
       "      <th id=\"T_d400b_level0_row3\" class=\"row_heading level0 row3\" >3</th>\n",
       "      <td id=\"T_d400b_row3_col0\" class=\"data row3 col0\" >(0.512, 0.622]</td>\n",
       "      <td id=\"T_d400b_row3_col1\" class=\"data row3 col1\" >19</td>\n",
       "      <td id=\"T_d400b_row3_col2\" class=\"data row3 col2\" >0.575</td>\n",
       "      <td id=\"T_d400b_row3_col3\" class=\"data row3 col3\" >0.789</td>\n",
       "      <td id=\"T_d400b_row3_col4\" class=\"data row3 col4\" >15</td>\n",
       "      <td id=\"T_d400b_row3_col5\" class=\"data row3 col5\" >10.934</td>\n",
       "    </tr>\n",
       "    <tr>\n",
       "      <th id=\"T_d400b_level0_row4\" class=\"row_heading level0 row4\" >4</th>\n",
       "      <td id=\"T_d400b_row4_col0\" class=\"data row4 col0\" >(0.622, 0.675]</td>\n",
       "      <td id=\"T_d400b_row4_col1\" class=\"data row4 col1\" >19</td>\n",
       "      <td id=\"T_d400b_row4_col2\" class=\"data row4 col2\" >0.651</td>\n",
       "      <td id=\"T_d400b_row4_col3\" class=\"data row4 col3\" >0.684</td>\n",
       "      <td id=\"T_d400b_row4_col4\" class=\"data row4 col4\" >13</td>\n",
       "      <td id=\"T_d400b_row4_col5\" class=\"data row4 col5\" >12.365</td>\n",
       "    </tr>\n",
       "    <tr>\n",
       "      <th id=\"T_d400b_level0_row5\" class=\"row_heading level0 row5\" >5</th>\n",
       "      <td id=\"T_d400b_row5_col0\" class=\"data row5 col0\" >(0.675, 0.733]</td>\n",
       "      <td id=\"T_d400b_row5_col1\" class=\"data row5 col1\" >19</td>\n",
       "      <td id=\"T_d400b_row5_col2\" class=\"data row5 col2\" >0.705</td>\n",
       "      <td id=\"T_d400b_row5_col3\" class=\"data row5 col3\" >0.947</td>\n",
       "      <td id=\"T_d400b_row5_col4\" class=\"data row5 col4\" >18</td>\n",
       "      <td id=\"T_d400b_row5_col5\" class=\"data row5 col5\" >13.394</td>\n",
       "    </tr>\n",
       "    <tr>\n",
       "      <th id=\"T_d400b_level0_row6\" class=\"row_heading level0 row6\" >6</th>\n",
       "      <td id=\"T_d400b_row6_col0\" class=\"data row6 col0\" >(0.733, 0.783]</td>\n",
       "      <td id=\"T_d400b_row6_col1\" class=\"data row6 col1\" >19</td>\n",
       "      <td id=\"T_d400b_row6_col2\" class=\"data row6 col2\" >0.762</td>\n",
       "      <td id=\"T_d400b_row6_col3\" class=\"data row6 col3\" >1.000</td>\n",
       "      <td id=\"T_d400b_row6_col4\" class=\"data row6 col4\" >19</td>\n",
       "      <td id=\"T_d400b_row6_col5\" class=\"data row6 col5\" >14.480</td>\n",
       "    </tr>\n",
       "    <tr>\n",
       "      <th id=\"T_d400b_level0_row7\" class=\"row_heading level0 row7\" >7</th>\n",
       "      <td id=\"T_d400b_row7_col0\" class=\"data row7 col0\" >(0.783, 0.846]</td>\n",
       "      <td id=\"T_d400b_row7_col1\" class=\"data row7 col1\" >19</td>\n",
       "      <td id=\"T_d400b_row7_col2\" class=\"data row7 col2\" >0.818</td>\n",
       "      <td id=\"T_d400b_row7_col3\" class=\"data row7 col3\" >1.000</td>\n",
       "      <td id=\"T_d400b_row7_col4\" class=\"data row7 col4\" >19</td>\n",
       "      <td id=\"T_d400b_row7_col5\" class=\"data row7 col5\" >15.534</td>\n",
       "    </tr>\n",
       "    <tr>\n",
       "      <th id=\"T_d400b_level0_row8\" class=\"row_heading level0 row8\" >8</th>\n",
       "      <td id=\"T_d400b_row8_col0\" class=\"data row8 col0\" >(0.846, 0.909]</td>\n",
       "      <td id=\"T_d400b_row8_col1\" class=\"data row8 col1\" >19</td>\n",
       "      <td id=\"T_d400b_row8_col2\" class=\"data row8 col2\" >0.869</td>\n",
       "      <td id=\"T_d400b_row8_col3\" class=\"data row8 col3\" >0.947</td>\n",
       "      <td id=\"T_d400b_row8_col4\" class=\"data row8 col4\" >18</td>\n",
       "      <td id=\"T_d400b_row8_col5\" class=\"data row8 col5\" >16.508</td>\n",
       "    </tr>\n",
       "  </tbody>\n",
       "</table>\n"
      ],
      "text/plain": [
       "<pandas.io.formats.style.Styler at 0x1aa1ecbcfa0>"
      ]
     },
     "metadata": {},
     "output_type": "display_data"
    },
    {
     "name": "stdout",
     "output_type": "stream",
     "text": [
      "Warning! Some expected frequencies are smaller then 1. Possible violoation of chi²-distribution.\n",
      "C(9): 26.33 p-value: 0.002\n"
     ]
    },
    {
     "data": {
      "text/plain": [
       "hltest_result(statistic=26.32792475118742, pvalue=0.0018051545107069522, dof=9)"
      ]
     },
     "execution_count": 16,
     "metadata": {},
     "output_type": "execute_result"
    }
   ],
   "source": [
    "ce.hosmerlemeshow()"
   ]
  },
  {
   "cell_type": "code",
   "execution_count": 17,
   "metadata": {},
   "outputs": [
    {
     "data": {
      "text/html": [
       "<style type=\"text/css\">\n",
       "#T_0afc2_row0_col0, #T_0afc2_row0_col1, #T_0afc2_row0_col2, #T_0afc2_row0_col3, #T_0afc2_row0_col4, #T_0afc2_row0_col5, #T_0afc2_row0_col6, #T_0afc2_row1_col0, #T_0afc2_row1_col1, #T_0afc2_row1_col2, #T_0afc2_row1_col3, #T_0afc2_row1_col4, #T_0afc2_row1_col5, #T_0afc2_row1_col6, #T_0afc2_row2_col0, #T_0afc2_row2_col1, #T_0afc2_row2_col2, #T_0afc2_row2_col3, #T_0afc2_row2_col4, #T_0afc2_row2_col5, #T_0afc2_row3_col0, #T_0afc2_row3_col1, #T_0afc2_row3_col2, #T_0afc2_row3_col3, #T_0afc2_row3_col4, #T_0afc2_row3_col5, #T_0afc2_row4_col0, #T_0afc2_row4_col1, #T_0afc2_row4_col2, #T_0afc2_row4_col3, #T_0afc2_row4_col4, #T_0afc2_row4_col5, #T_0afc2_row4_col6, #T_0afc2_row5_col0, #T_0afc2_row5_col1, #T_0afc2_row5_col2, #T_0afc2_row5_col3, #T_0afc2_row5_col4, #T_0afc2_row5_col5, #T_0afc2_row6_col0, #T_0afc2_row6_col1, #T_0afc2_row6_col2, #T_0afc2_row6_col3, #T_0afc2_row6_col4, #T_0afc2_row6_col5, #T_0afc2_row7_col0, #T_0afc2_row7_col1, #T_0afc2_row7_col2, #T_0afc2_row7_col3, #T_0afc2_row7_col4, #T_0afc2_row7_col5, #T_0afc2_row8_col0, #T_0afc2_row8_col1, #T_0afc2_row8_col2, #T_0afc2_row8_col3, #T_0afc2_row8_col4, #T_0afc2_row8_col5, #T_0afc2_row8_col6 {\n",
       "  color: black;\n",
       "}\n",
       "#T_0afc2_row2_col6, #T_0afc2_row3_col6, #T_0afc2_row5_col6, #T_0afc2_row6_col6, #T_0afc2_row7_col6 {\n",
       "  color: red;\n",
       "}\n",
       "</style>\n",
       "<table id=\"T_0afc2_\">\n",
       "  <thead>\n",
       "    <tr>\n",
       "      <th class=\"blank level0\" >&nbsp;</th>\n",
       "      <th class=\"col_heading level0 col0\" >Interval</th>\n",
       "      <th class=\"col_heading level0 col1\" >total</th>\n",
       "      <th class=\"col_heading level0 col2\" >mean_predicted</th>\n",
       "      <th class=\"col_heading level0 col3\" >mean_observed</th>\n",
       "      <th class=\"col_heading level0 col4\" >phi</th>\n",
       "      <th class=\"col_heading level0 col5\" >observed_1</th>\n",
       "      <th class=\"col_heading level0 col6\" >predicted_1</th>\n",
       "    </tr>\n",
       "  </thead>\n",
       "  <tbody>\n",
       "    <tr>\n",
       "      <th id=\"T_0afc2_level0_row0\" class=\"row_heading level0 row0\" >0</th>\n",
       "      <td id=\"T_0afc2_row0_col0\" class=\"data row0 col0\" >(-0.0009678, 0.053]</td>\n",
       "      <td id=\"T_0afc2_row0_col1\" class=\"data row0 col1\" >19</td>\n",
       "      <td id=\"T_0afc2_row0_col2\" class=\"data row0 col2\" >0.022</td>\n",
       "      <td id=\"T_0afc2_row0_col3\" class=\"data row0 col3\" >0.000</td>\n",
       "      <td id=\"T_0afc2_row0_col4\" class=\"data row0 col4\" >0.991</td>\n",
       "      <td id=\"T_0afc2_row0_col5\" class=\"data row0 col5\" >0</td>\n",
       "      <td id=\"T_0afc2_row0_col6\" class=\"data row0 col6\" >0.418</td>\n",
       "    </tr>\n",
       "    <tr>\n",
       "      <th id=\"T_0afc2_level0_row1\" class=\"row_heading level0 row1\" >1</th>\n",
       "      <td id=\"T_0afc2_row1_col0\" class=\"data row1 col0\" >(0.053, 0.229]</td>\n",
       "      <td id=\"T_0afc2_row1_col1\" class=\"data row1 col1\" >19</td>\n",
       "      <td id=\"T_0afc2_row1_col2\" class=\"data row1 col2\" >0.112</td>\n",
       "      <td id=\"T_0afc2_row1_col3\" class=\"data row1 col3\" >0.105</td>\n",
       "      <td id=\"T_0afc2_row1_col4\" class=\"data row1 col4\" >0.975</td>\n",
       "      <td id=\"T_0afc2_row1_col5\" class=\"data row1 col5\" >2</td>\n",
       "      <td id=\"T_0afc2_row1_col6\" class=\"data row1 col6\" >2.136</td>\n",
       "    </tr>\n",
       "    <tr>\n",
       "      <th id=\"T_0afc2_level0_row2\" class=\"row_heading level0 row2\" >2</th>\n",
       "      <td id=\"T_0afc2_row2_col0\" class=\"data row2 col0\" >(0.229, 0.512]</td>\n",
       "      <td id=\"T_0afc2_row2_col1\" class=\"data row2 col1\" >19</td>\n",
       "      <td id=\"T_0afc2_row2_col2\" class=\"data row2 col2\" >0.368</td>\n",
       "      <td id=\"T_0afc2_row2_col3\" class=\"data row2 col3\" >0.632</td>\n",
       "      <td id=\"T_0afc2_row2_col4\" class=\"data row2 col4\" >0.965</td>\n",
       "      <td id=\"T_0afc2_row2_col5\" class=\"data row2 col5\" >12</td>\n",
       "      <td id=\"T_0afc2_row2_col6\" class=\"data row2 col6\" >6.995</td>\n",
       "    </tr>\n",
       "    <tr>\n",
       "      <th id=\"T_0afc2_level0_row3\" class=\"row_heading level0 row3\" >3</th>\n",
       "      <td id=\"T_0afc2_row3_col0\" class=\"data row3 col0\" >(0.512, 0.622]</td>\n",
       "      <td id=\"T_0afc2_row3_col1\" class=\"data row3 col1\" >19</td>\n",
       "      <td id=\"T_0afc2_row3_col2\" class=\"data row3 col2\" >0.575</td>\n",
       "      <td id=\"T_0afc2_row3_col3\" class=\"data row3 col3\" >0.789</td>\n",
       "      <td id=\"T_0afc2_row3_col4\" class=\"data row3 col4\" >0.994</td>\n",
       "      <td id=\"T_0afc2_row3_col5\" class=\"data row3 col5\" >15</td>\n",
       "      <td id=\"T_0afc2_row3_col6\" class=\"data row3 col6\" >10.934</td>\n",
       "    </tr>\n",
       "    <tr>\n",
       "      <th id=\"T_0afc2_level0_row4\" class=\"row_heading level0 row4\" >4</th>\n",
       "      <td id=\"T_0afc2_row4_col0\" class=\"data row4 col0\" >(0.622, 0.675]</td>\n",
       "      <td id=\"T_0afc2_row4_col1\" class=\"data row4 col1\" >19</td>\n",
       "      <td id=\"T_0afc2_row4_col2\" class=\"data row4 col2\" >0.651</td>\n",
       "      <td id=\"T_0afc2_row4_col3\" class=\"data row4 col3\" >0.684</td>\n",
       "      <td id=\"T_0afc2_row4_col4\" class=\"data row4 col4\" >0.999</td>\n",
       "      <td id=\"T_0afc2_row4_col5\" class=\"data row4 col5\" >13</td>\n",
       "      <td id=\"T_0afc2_row4_col6\" class=\"data row4 col6\" >12.365</td>\n",
       "    </tr>\n",
       "    <tr>\n",
       "      <th id=\"T_0afc2_level0_row5\" class=\"row_heading level0 row5\" >5</th>\n",
       "      <td id=\"T_0afc2_row5_col0\" class=\"data row5 col0\" >(0.675, 0.733]</td>\n",
       "      <td id=\"T_0afc2_row5_col1\" class=\"data row5 col1\" >19</td>\n",
       "      <td id=\"T_0afc2_row5_col2\" class=\"data row5 col2\" >0.705</td>\n",
       "      <td id=\"T_0afc2_row5_col3\" class=\"data row5 col3\" >0.947</td>\n",
       "      <td id=\"T_0afc2_row5_col4\" class=\"data row5 col4\" >0.998</td>\n",
       "      <td id=\"T_0afc2_row5_col5\" class=\"data row5 col5\" >18</td>\n",
       "      <td id=\"T_0afc2_row5_col6\" class=\"data row5 col6\" >13.394</td>\n",
       "    </tr>\n",
       "    <tr>\n",
       "      <th id=\"T_0afc2_level0_row6\" class=\"row_heading level0 row6\" >6</th>\n",
       "      <td id=\"T_0afc2_row6_col0\" class=\"data row6 col0\" >(0.733, 0.783]</td>\n",
       "      <td id=\"T_0afc2_row6_col1\" class=\"data row6 col1\" >19</td>\n",
       "      <td id=\"T_0afc2_row6_col2\" class=\"data row6 col2\" >0.762</td>\n",
       "      <td id=\"T_0afc2_row6_col3\" class=\"data row6 col3\" >1.000</td>\n",
       "      <td id=\"T_0afc2_row6_col4\" class=\"data row6 col4\" >0.999</td>\n",
       "      <td id=\"T_0afc2_row6_col5\" class=\"data row6 col5\" >19</td>\n",
       "      <td id=\"T_0afc2_row6_col6\" class=\"data row6 col6\" >14.480</td>\n",
       "    </tr>\n",
       "    <tr>\n",
       "      <th id=\"T_0afc2_level0_row7\" class=\"row_heading level0 row7\" >7</th>\n",
       "      <td id=\"T_0afc2_row7_col0\" class=\"data row7 col0\" >(0.783, 0.846]</td>\n",
       "      <td id=\"T_0afc2_row7_col1\" class=\"data row7 col1\" >19</td>\n",
       "      <td id=\"T_0afc2_row7_col2\" class=\"data row7 col2\" >0.818</td>\n",
       "      <td id=\"T_0afc2_row7_col3\" class=\"data row7 col3\" >1.000</td>\n",
       "      <td id=\"T_0afc2_row7_col4\" class=\"data row7 col4\" >0.998</td>\n",
       "      <td id=\"T_0afc2_row7_col5\" class=\"data row7 col5\" >19</td>\n",
       "      <td id=\"T_0afc2_row7_col6\" class=\"data row7 col6\" >15.534</td>\n",
       "    </tr>\n",
       "    <tr>\n",
       "      <th id=\"T_0afc2_level0_row8\" class=\"row_heading level0 row8\" >8</th>\n",
       "      <td id=\"T_0afc2_row8_col0\" class=\"data row8 col0\" >(0.846, 0.909]</td>\n",
       "      <td id=\"T_0afc2_row8_col1\" class=\"data row8 col1\" >19</td>\n",
       "      <td id=\"T_0afc2_row8_col2\" class=\"data row8 col2\" >0.869</td>\n",
       "      <td id=\"T_0afc2_row8_col3\" class=\"data row8 col3\" >0.947</td>\n",
       "      <td id=\"T_0afc2_row8_col4\" class=\"data row8 col4\" >0.997</td>\n",
       "      <td id=\"T_0afc2_row8_col5\" class=\"data row8 col5\" >18</td>\n",
       "      <td id=\"T_0afc2_row8_col6\" class=\"data row8 col6\" >16.508</td>\n",
       "    </tr>\n",
       "  </tbody>\n",
       "</table>\n"
      ],
      "text/plain": [
       "<pandas.io.formats.style.Styler at 0x1aa1e70f3d0>"
      ]
     },
     "metadata": {},
     "output_type": "display_data"
    },
    {
     "name": "stdout",
     "output_type": "stream",
     "text": [
      "Warning! Some expected frequencies are smaller then 1. Possible violoation of chi²-distribution.\n",
      "J²(9): 26.59 p-value: 0.002\n"
     ]
    },
    {
     "data": {
      "text/plain": [
       "phtest_result(statistic=26.587540158176804, pvalue=0.0016361413219523335, dof=9)"
      ]
     },
     "execution_count": 17,
     "metadata": {},
     "output_type": "execute_result"
    }
   ],
   "source": [
    "ce.pigeonheyse()"
   ]
  },
  {
   "cell_type": "markdown",
   "metadata": {},
   "source": [
    "- Apply z-Test"
   ]
  },
  {
   "cell_type": "code",
   "execution_count": 18,
   "metadata": {},
   "outputs": [
    {
     "data": {
      "text/plain": [
       "ztest_result(statistic=-3.196125145498827, pvalue=0.0013928668407116645)"
      ]
     },
     "execution_count": 18,
     "metadata": {},
     "output_type": "execute_result"
    }
   ],
   "source": [
    "ce.z_test()"
   ]
  },
  {
   "cell_type": "markdown",
   "metadata": {},
   "source": [
    "- Draw the calibration plot"
   ]
  },
  {
   "cell_type": "code",
   "execution_count": 15,
   "metadata": {},
   "outputs": [
    {
     "data": {
      "image/png": "[encoded data removed]",
      "text/plain": [
       "<Figure size 720x432 with 2 Axes>"
      ]
     },
     "metadata": {
      "needs_background": "light"
     },
     "output_type": "display_data"
    }
   ],
   "source": [
    "ce.calibration_plot();"
   ]
  },
  {
   "cell_type": "markdown",
   "metadata": {},
   "source": [
    "- Draw the calibration belt"
   ]
  },
  {
   "cell_type": "code",
   "execution_count": 21,
   "metadata": {},
   "outputs": [
    {
     "name": "stderr",
     "output_type": "stream",
     "text": [
      "100%|██████████| 50/50 [00:01<00:00, 26.36it/s]\n",
      "100%|██████████| 50/50 [00:01<00:00, 26.63it/s]\n"
     ]
    },
    {
     "data": {
      "text/plain": [
       "calbelt_result(statistic=27.508984722706913, pvalue=1.062918255523293e-06, fig=<Figure size 720x432 with 1 Axes>)"
      ]
     },
     "execution_count": 21,
     "metadata": {},
     "output_type": "execute_result"
    },
    {
     "data": {
      "image/png": "[encoded data removed]",
      "text/plain": [
       "<Figure size 720x432 with 1 Axes>"
      ]
     },
     "metadata": {
      "needs_background": "light"
     },
     "output_type": "display_data"
    }
   ],
   "source": [
    "ce.calbelt(plot=True)"
   ]
  },
  {
   "cell_type": "code",
   "execution_count": 22,
   "metadata": {},
   "outputs": [
    {
     "name": "stderr",
     "output_type": "stream",
     "text": [
      "100%|██████████| 50/50 [00:01<00:00, 26.15it/s]\n",
      "100%|██████████| 50/50 [00:01<00:00, 26.24it/s]\n"
     ]
    },
    {
     "name": "stdout",
     "output_type": "stream",
     "text": [
      "Calibration report for model 'my_log_reg2' saved to report_poorly.pdf\n"
     ]
    }
   ],
   "source": [
    "ce.calibration_report('report_poorly.pdf', 'my_log_reg2')"
   ]
  }
 ],
 "metadata": {
  "interpreter": {
   "hash": "c08ae76adcd2446d82803517247c55319c1581db7453d3012b792e7ae1b161d3"
  },
  "kernelspec": {
   "display_name": "Python 3.10.1 ('thesis')",
   "language": "python",
   "name": "python3"
  },
  "language_info": {
   "codemirror_mode": {
    "name": "ipython",
    "version": 3
   },
   "file_extension": ".py",
   "mimetype": "text/x-python",
   "name": "python",
   "nbconvert_exporter": "python",
   "pygments_lexer": "ipython3",
   "version": "3.10.1"
  },
  "orig_nbformat": 4
 },
 "nbformat": 4,
 "nbformat_minor": 2
}
